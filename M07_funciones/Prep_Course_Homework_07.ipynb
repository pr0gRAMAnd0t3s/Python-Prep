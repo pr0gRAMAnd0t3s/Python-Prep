{
 "cells": [
  {
   "attachments": {},
   "cell_type": "markdown",
   "metadata": {},
   "source": [
    "## Funciones"
   ]
  },
  {
   "attachments": {},
   "cell_type": "markdown",
   "metadata": {},
   "source": [
    "1) Crear una función que reciba un número como parámetro y devuelva True si es primo y False si no lo es"
   ]
  },
  {
   "cell_type": "code",
   "execution_count": 1,
   "metadata": {},
   "outputs": [
    {
     "name": "stdout",
     "output_type": "stream",
     "text": [
      "True\n"
     ]
    }
   ],
   "source": [
    "numero = 5\n",
    "es_primo = True\n",
    "\n",
    "if numero <=1:\n",
    "    print(\"los primos son mayores que 2\")\n",
    "\n",
    "for i in range(2, numero):\n",
    "    if numero%i == 0:\n",
    "        es_primo = False\n",
    "        break\n",
    "\n",
    "print(es_primo)"
   ]
  },
  {
   "cell_type": "code",
   "execution_count": 2,
   "metadata": {},
   "outputs": [],
   "source": [
    "def verifica_primo(numero):\n",
    "    es_primo = True\n",
    "\n",
    "    if numero <= 1:\n",
    "        print(\"los primos son mayores que 2\")\n",
    "        return None\n",
    "    if numero == 2:\n",
    "        return True\n",
    "\n",
    "    for i in range(2, numero):\n",
    "        if numero%i == 0:\n",
    "            es_primo = False\n",
    "            break\n",
    "\n",
    "    return es_primo"
   ]
  },
  {
   "cell_type": "code",
   "execution_count": 3,
   "metadata": {},
   "outputs": [
    {
     "data": {
      "text/plain": [
       "True"
      ]
     },
     "execution_count": 3,
     "metadata": {},
     "output_type": "execute_result"
    }
   ],
   "source": [
    "verifica_primo(5)"
   ]
  },
  {
   "cell_type": "code",
   "execution_count": 5,
   "metadata": {},
   "outputs": [
    {
     "data": {
      "text/plain": [
       "False"
      ]
     },
     "execution_count": 5,
     "metadata": {},
     "output_type": "execute_result"
    }
   ],
   "source": [
    "num = int(input(\"ingrese un numero mayor a cero: \"))\n",
    "verifica_primo(num)"
   ]
  },
  {
   "attachments": {},
   "cell_type": "markdown",
   "metadata": {},
   "source": [
    "2) Utilizando la función del punto 1, realizar otra función que reciba de parámetro una lista de números y devuelva sólo aquellos que son primos en otra lista"
   ]
  },
  {
   "cell_type": "code",
   "execution_count": 4,
   "metadata": {},
   "outputs": [],
   "source": [
    "def extrae_primos_de_lista(lista):\n",
    "    lista_primos = []\n",
    "    for e in lista:\n",
    "        if verifica_primo(e):\n",
    "            lista_primos.append(e)\n",
    "    return lista_primos"
   ]
  },
  {
   "cell_type": "code",
   "execution_count": 5,
   "metadata": {},
   "outputs": [
    {
     "name": "stdout",
     "output_type": "stream",
     "text": [
      "los primos son mayores que 2\n"
     ]
    },
    {
     "data": {
      "text/plain": [
       "[2, 3, 5, 7, 11, 13, 17, 19]"
      ]
     },
     "execution_count": 5,
     "metadata": {},
     "output_type": "execute_result"
    }
   ],
   "source": [
    "lis_completa = [1,2,3,4,5,6,7,8,9,10,11,12,13,14,15,16,17,18,19,20]\n",
    "primos = extrae_primos_de_lista(lis_completa)\n",
    "primos"
   ]
  },
  {
   "attachments": {},
   "cell_type": "markdown",
   "metadata": {},
   "source": [
    "3) Crear una función que al recibir una lista de números, devuelva el que más se repite y cuántas veces lo hace. Si hay más de un \"más repetido\", que devuelva cualquiera"
   ]
  },
  {
   "cell_type": "code",
   "execution_count": 6,
   "metadata": {},
   "outputs": [],
   "source": [
    "def numero_mas_repetido(lista):\n",
    "    contador = {}\n",
    "    for num in lista:\n",
    "        if num in contador.keys():\n",
    "            contador[num] += 1\n",
    "        else:\n",
    "            contador[num] = 1\n",
    "\n",
    "    max_repeticion = 0\n",
    "    mas_repetido = None\n",
    "\n",
    "    for numero, repeticion in contador.items():\n",
    "        if repeticion > max_repeticion:\n",
    "            max_repeticion = repeticion\n",
    "            mas_repetido = numero\n",
    "    \n",
    "    return mas_repetido, max_repeticion"
   ]
  },
  {
   "cell_type": "code",
   "execution_count": 7,
   "metadata": {},
   "outputs": [
    {
     "data": {
      "text/plain": [
       "(5, 4)"
      ]
     },
     "execution_count": 7,
     "metadata": {},
     "output_type": "execute_result"
    }
   ],
   "source": [
    "lis = [10,1,5,6,8,10,22,5,6,4,11,5,10,9,5]\n",
    "numero_mas_repetido(lis)"
   ]
  },
  {
   "attachments": {},
   "cell_type": "markdown",
   "metadata": {},
   "source": [
    "4) A la función del punto 3, agregar un parámetro más, que permita elegir si se requiere el menor o el mayor de los mas repetidos."
   ]
  },
  {
   "cell_type": "code",
   "execution_count": 9,
   "metadata": {},
   "outputs": [],
   "source": [
    "def numero_mas_repetido(lista, modo):\n",
    "    contador = {}\n",
    "    for num in lista:\n",
    "        if num in contador.keys():\n",
    "            contador[num] += 1\n",
    "        else:\n",
    "            contador[num] = 1\n",
    "\n",
    "    max_repeticion = 0\n",
    "    mas_repetido = []\n",
    "    \n",
    "    for numero, repeticion in contador.items():\n",
    "        if repeticion > max_repeticion:\n",
    "            max_repeticion = repeticion\n",
    "            mas_repetido = [numero]\n",
    "        elif repeticion == max_repeticion:\n",
    "            mas_repetido.append(numero)\n",
    "\n",
    "    if modo == 'menor':\n",
    "        mas_repetido_num = min(mas_repetido)\n",
    "    elif modo == 'mayor':\n",
    "        mas_repetido_num = max(mas_repetido)\n",
    "    \n",
    "    return mas_repetido_num, max_repeticion"
   ]
  },
  {
   "cell_type": "code",
   "execution_count": 10,
   "metadata": {},
   "outputs": [
    {
     "data": {
      "text/plain": [
       "(5, 4)"
      ]
     },
     "execution_count": 10,
     "metadata": {},
     "output_type": "execute_result"
    }
   ],
   "source": [
    "lis = [10,1,5,6,8,10,22,5,6,10,4,11,5,10,9,5]\n",
    "numero_mas_repetido(lis, 'menor')"
   ]
  },
  {
   "cell_type": "code",
   "execution_count": 11,
   "metadata": {},
   "outputs": [
    {
     "data": {
      "text/plain": [
       "(10, 4)"
      ]
     },
     "execution_count": 11,
     "metadata": {},
     "output_type": "execute_result"
    }
   ],
   "source": [
    "lis = [10,1,5,6,8,10,22,5,6,10,4,11,5,10,9,5]\n",
    "numero_mas_repetido(lis, 'mayor')"
   ]
  },
  {
   "cell_type": "code",
   "execution_count": 12,
   "metadata": {},
   "outputs": [
    {
     "ename": "ValueError",
     "evalue": "not enough values to unpack (expected 3, got 2)",
     "output_type": "error",
     "traceback": [
      "\u001b[1;31m---------------------------------------------------------------------------\u001b[0m",
      "\u001b[1;31mValueError\u001b[0m                                Traceback (most recent call last)",
      "Cell \u001b[1;32mIn[12], line 2\u001b[0m\n\u001b[0;32m      1\u001b[0m lis \u001b[39m=\u001b[39m [\u001b[39m10\u001b[39m,\u001b[39m1\u001b[39m,\u001b[39m5\u001b[39m,\u001b[39m6\u001b[39m,\u001b[39m8\u001b[39m,\u001b[39m10\u001b[39m,\u001b[39m22\u001b[39m,\u001b[39m5\u001b[39m,\u001b[39m6\u001b[39m,\u001b[39m10\u001b[39m,\u001b[39m4\u001b[39m,\u001b[39m11\u001b[39m,\u001b[39m5\u001b[39m,\u001b[39m10\u001b[39m,\u001b[39m9\u001b[39m,\u001b[39m5\u001b[39m]\n\u001b[1;32m----> 2\u001b[0m mas_repetido_num , max_repeticion, contador \u001b[39m=\u001b[39m numero_mas_repetido(lis, \u001b[39m'\u001b[39m\u001b[39mmenor\u001b[39m\u001b[39m'\u001b[39m)\n\u001b[0;32m      3\u001b[0m \u001b[39mprint\u001b[39m(mas_repetido_num)\n\u001b[0;32m      4\u001b[0m \u001b[39mprint\u001b[39m(max_repeticion)\n",
      "\u001b[1;31mValueError\u001b[0m: not enough values to unpack (expected 3, got 2)"
     ]
    }
   ],
   "source": [
    "lis = [10,1,5,6,8,10,22,5,6,10,4,11,5,10,9,5]\n",
    "mas_repetido_num , max_repeticion, contador = numero_mas_repetido(lis, 'menor')\n",
    "print(mas_repetido_num)\n",
    "print(max_repeticion)\n",
    "print(contador)"
   ]
  },
  {
   "attachments": {},
   "cell_type": "markdown",
   "metadata": {},
   "source": [
    "5) Crear una función que convierta entre grados Celsius, Farenheit y Kelvin<br>\n",
    "Fórmula 1\t: (°C × 9/5) + 32 = °F<br>\n",
    "Fórmula 2\t: °C + 273.15 = °K<br>\n",
    "Debe recibir 3 parámetros: el valor, la medida de orígen y la medida de destino\n"
   ]
  },
  {
   "cell_type": "code",
   "execution_count": 13,
   "metadata": {},
   "outputs": [],
   "source": [
    "def conversion_grados(valor, origen, destino):\n",
    "    if origen == 'celsius':\n",
    "        if destino == 'celsius':\n",
    "            valor_destino = valor\n",
    "        elif destino == 'farenheit':\n",
    "            valor_destino = (valor * 9 / 5) + 32\n",
    "        elif destino == 'kelvin':\n",
    "            valor_destino = valor + 273.15\n",
    "        else:\n",
    "            print('Parametro de Destino incorrecto')\n",
    "    elif origen == 'farenheit':\n",
    "        if destino == 'celsius':\n",
    "            valor_destino = (valor - 32) * 5 / 9\n",
    "        elif destino == 'farenheit':\n",
    "            valor_destino = valor\n",
    "        elif destino == 'kelvin':\n",
    "            valor_destino = ((valor - 32) * 5 / 9) + 273.15\n",
    "        else:\n",
    "            print('Parametro de Destino incorrecto')\n",
    "    elif origen == 'kelvin':\n",
    "        if destino == 'celsius':\n",
    "            valor_destino = valor - 273.15\n",
    "        elif destino == 'farenheit':\n",
    "            valor_destino = ((valor - 273.15) * 9 / 5) + 32\n",
    "        elif destino == 'kelvin':\n",
    "            valor_destino = valor\n",
    "        else:\n",
    "            print('Parametro de destino incorrecto')\n",
    "    else:\n",
    "        print('Parametro de Origen incorrecto')\n",
    "\n",
    "    return valor_destino "
   ]
  },
  {
   "cell_type": "code",
   "execution_count": 14,
   "metadata": {},
   "outputs": [
    {
     "name": "stdout",
     "output_type": "stream",
     "text": [
      "77.0\n",
      "303.15\n",
      "26.850000000000023\n"
     ]
    }
   ],
   "source": [
    "print(conversion_grados(25, 'celsius', 'farenheit'))\n",
    "\n",
    "print(conversion_grados(86, 'farenheit', 'kelvin'))\n",
    "\n",
    "print(conversion_grados(300,'kelvin', 'celsius'))"
   ]
  },
  {
   "attachments": {},
   "cell_type": "markdown",
   "metadata": {},
   "source": [
    "6) Iterando una lista con los tres valores posibles de temperatura que recibe la función del punto 5, hacer un print para cada combinación de los mismos:"
   ]
  },
  {
   "cell_type": "code",
   "execution_count": 15,
   "metadata": {},
   "outputs": [
    {
     "name": "stdout",
     "output_type": "stream",
     "text": [
      "20 grados celsius convertidos a celsius son 20 grados\n",
      "20 grados celsius convertidos a kelvin son 293.15 grados\n",
      "20 grados celsius convertidos a farenheit son 68.0 grados\n",
      "20 grados kelvin convertidos a celsius son -253.14999999999998 grados\n",
      "20 grados kelvin convertidos a kelvin son 20 grados\n",
      "20 grados kelvin convertidos a farenheit son -423.66999999999996 grados\n",
      "20 grados farenheit convertidos a celsius son -6.666666666666667 grados\n",
      "20 grados farenheit convertidos a kelvin son 266.4833333333333 grados\n",
      "20 grados farenheit convertidos a farenheit son 20 grados\n"
     ]
    }
   ],
   "source": [
    "unidades = ['celsius', 'kelvin', 'farenheit']\n",
    "\n",
    "temperatura = 20\n",
    "\n",
    "for i in unidades:\n",
    "    for j in unidades:\n",
    "        conversion = conversion_grados(temperatura, i, j)\n",
    "        print(f\"{temperatura} grados {i} convertidos a {j} son {conversion} grados\")\n",
    "        \n"
   ]
  },
  {
   "attachments": {},
   "cell_type": "markdown",
   "metadata": {},
   "source": [
    "7) Armar una función que devuelva el factorial de un número. Tener en cuenta que el usuario puede equivocarse y enviar de parámetro un número no entero o negativo"
   ]
  },
  {
   "cell_type": "code",
   "execution_count": 16,
   "metadata": {},
   "outputs": [],
   "source": [
    "def factorial(numero):\n",
    "    if type(numero) != int or numero <0:\n",
    "        return None\n",
    "    if numero <=1:\n",
    "        return 1\n",
    "    \n",
    "    numero = numero * factorial(numero - 1)\n",
    "    return numero"
   ]
  },
  {
   "cell_type": "code",
   "execution_count": 17,
   "metadata": {},
   "outputs": [
    {
     "data": {
      "text/plain": [
       "120"
      ]
     },
     "execution_count": 17,
     "metadata": {},
     "output_type": "execute_result"
    }
   ],
   "source": [
    "factorial(5)"
   ]
  }
 ],
 "metadata": {
  "interpreter": {
   "hash": "c85384e4cb51c8b72350f3a8712cc8351fdc3955e32a27f9b60c6242ab125f01"
  },
  "kernelspec": {
   "display_name": "Python 3 (ipykernel)",
   "language": "python",
   "name": "python3"
  },
  "language_info": {
   "codemirror_mode": {
    "name": "ipython",
    "version": 3
   },
   "file_extension": ".py",
   "mimetype": "text/x-python",
   "name": "python",
   "nbconvert_exporter": "python",
   "pygments_lexer": "ipython3",
   "version": "3.10.11"
  }
 },
 "nbformat": 4,
 "nbformat_minor": 4
}
