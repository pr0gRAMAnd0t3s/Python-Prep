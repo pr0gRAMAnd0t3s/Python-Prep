{
 "cells": [
  {
   "attachments": {},
   "cell_type": "markdown",
   "metadata": {},
   "source": [
    "## Flujos de Control"
   ]
  },
  {
   "attachments": {},
   "cell_type": "markdown",
   "metadata": {},
   "source": [
    "1) Crear una variable que contenga un elemento del conjunto de números enteros y luego imprimir por pantalla si es mayor o menor a cero"
   ]
  },
  {
   "cell_type": "code",
   "execution_count": 1,
   "metadata": {},
   "outputs": [
    {
     "name": "stdout",
     "output_type": "stream",
     "text": [
      "Es menor a cero\n"
     ]
    }
   ],
   "source": [
    "z = -20\n",
    "if (z) > 0:\n",
    "    print('Es mayor a cero')\n",
    "elif (z) < 0:\n",
    "    print('Es menor a cero')\n",
    "else:\n",
    "    print('El numero es igual a cero')"
   ]
  },
  {
   "attachments": {},
   "cell_type": "markdown",
   "metadata": {},
   "source": [
    "2) Crear dos variables y un condicional que informe si son del mismo tipo de dato"
   ]
  },
  {
   "cell_type": "code",
   "execution_count": 1,
   "metadata": {},
   "outputs": [
    {
     "name": "stdout",
     "output_type": "stream",
     "text": [
      "No son el mismo tipo de datos\n"
     ]
    }
   ],
   "source": [
    "a = 12\n",
    "b = True\n",
    "if (type(a) == type(b)):\n",
    "    print('Son el mismo tipo de datos')\n",
    "else:\n",
    "    print('No son el mismo tipo de datos')"
   ]
  },
  {
   "attachments": {},
   "cell_type": "markdown",
   "metadata": {},
   "source": [
    "3) Para los valores enteros del 1 al 20, imprimir por pantalla si es par o impar"
   ]
  },
  {
   "cell_type": "code",
   "execution_count": 8,
   "metadata": {},
   "outputs": [
    {
     "name": "stdout",
     "output_type": "stream",
     "text": [
      "1 es un numero es impar\n",
      "2 es un numero es par\n",
      "3 es un numero es impar\n",
      "4 es un numero es par\n",
      "5 es un numero es impar\n",
      "6 es un numero es par\n",
      "7 es un numero es impar\n",
      "8 es un numero es par\n",
      "9 es un numero es impar\n",
      "10 es un numero es par\n",
      "11 es un numero es impar\n",
      "12 es un numero es par\n",
      "13 es un numero es impar\n",
      "14 es un numero es par\n",
      "15 es un numero es impar\n",
      "16 es un numero es par\n",
      "17 es un numero es impar\n",
      "18 es un numero es par\n",
      "19 es un numero es impar\n",
      "20 es un numero es par\n"
     ]
    }
   ],
   "source": [
    "for numero in range(1, 21):\n",
    "    if(numero % 2 == 0):\n",
    "        print(numero, 'es un numero es par')\n",
    "    else:\n",
    "        print(numero, 'es un numero es impar')"
   ]
  },
  {
   "attachments": {},
   "cell_type": "markdown",
   "metadata": {},
   "source": [
    "4) En un ciclo for mostrar para los valores entre 0 y 5 el resultado de elevarlo a la potencia igual a 3"
   ]
  },
  {
   "cell_type": "code",
   "execution_count": 12,
   "metadata": {},
   "outputs": [
    {
     "name": "stdout",
     "output_type": "stream",
     "text": [
      "1\n",
      "8\n",
      "27\n",
      "64\n",
      "125\n"
     ]
    }
   ],
   "source": [
    "for c in range(1, 6):\n",
    "    print(c**3)"
   ]
  },
  {
   "attachments": {},
   "cell_type": "markdown",
   "metadata": {},
   "source": [
    "5) Crear una variable que contenga un número entero y realizar un ciclo for la misma cantidad de ciclos"
   ]
  },
  {
   "cell_type": "code",
   "execution_count": 13,
   "metadata": {},
   "outputs": [
    {
     "name": "stdout",
     "output_type": "stream",
     "text": [
      "9\n"
     ]
    }
   ],
   "source": [
    "e = 10\n",
    "for c in range(0, e):\n",
    "    pass\n",
    "print(c)"
   ]
  },
  {
   "attachments": {},
   "cell_type": "markdown",
   "metadata": {},
   "source": [
    "6) Utilizar un ciclo while para realizar el factorial de un número guardado en una variable, sólo si la variable contiene un número entero mayor a 0"
   ]
  },
  {
   "cell_type": "code",
   "execution_count": null,
   "metadata": {},
   "outputs": [],
   "source": []
  },
  {
   "cell_type": "code",
   "execution_count": 14,
   "metadata": {},
   "outputs": [],
   "source": [
    "a = 2\n",
    "if (a > 0):\n",
    "    pass\n",
    "else:\n",
    "    print(' La variable debe ser mayor a cero')"
   ]
  },
  {
   "attachments": {},
   "cell_type": "markdown",
   "metadata": {},
   "source": [
    "7) Crear un ciclo for dentro de un ciclo while"
   ]
  },
  {
   "cell_type": "code",
   "execution_count": 23,
   "metadata": {},
   "outputs": [
    {
     "name": "stdout",
     "output_type": "stream",
     "text": [
      "Ciclo while2\n",
      "Ciclo for1\n",
      "Ciclo while3\n",
      "Ciclo for1\n",
      "Ciclo while3\n",
      "Ciclo for2\n",
      "Ciclo while4\n",
      "Ciclo for1\n",
      "Ciclo while4\n",
      "Ciclo for2\n",
      "Ciclo while4\n",
      "Ciclo for3\n",
      "Ciclo while5\n",
      "Ciclo for1\n",
      "Ciclo while5\n",
      "Ciclo for2\n",
      "Ciclo while5\n",
      "Ciclo for3\n",
      "Ciclo while5\n",
      "Ciclo for4\n"
     ]
    }
   ],
   "source": [
    "a = 0\n",
    "while(a < 5):\n",
    "    a += 1\n",
    "    for i in range(1,a):\n",
    "        print('Ciclo while' + str(a))\n",
    "        print('Ciclo for' + str(i))"
   ]
  },
  {
   "attachments": {},
   "cell_type": "markdown",
   "metadata": {},
   "source": [
    "8) Crear un ciclo while dentro de un ciclo for"
   ]
  },
  {
   "cell_type": "code",
   "execution_count": 28,
   "metadata": {},
   "outputs": [],
   "source": [
    "b = 4\n",
    "for i in range(1,b):\n",
    "    while(b > 10):\n",
    "        b -= 1\n",
    "        print('Ciclo for' + str(b))\n",
    "        print('Ciclo while' + str(i))"
   ]
  },
  {
   "attachments": {},
   "cell_type": "markdown",
   "metadata": {},
   "source": [
    "9) Imprimir los números primos existentes entre 0 y 30"
   ]
  },
  {
   "cell_type": "code",
   "execution_count": 33,
   "metadata": {},
   "outputs": [
    {
     "name": "stdout",
     "output_type": "stream",
     "text": [
      "1 es primo\n",
      "2 es primo\n",
      "3 es primo\n",
      "4 no es primo\n",
      "5 es primo\n",
      "6 no es primo\n",
      "7 es primo\n",
      "8 no es primo\n",
      "9 no es primo\n",
      "10 no es primo\n",
      "11 es primo\n",
      "12 no es primo\n",
      "13 es primo\n",
      "14 no es primo\n",
      "15 no es primo\n",
      "16 no es primo\n",
      "17 es primo\n",
      "18 no es primo\n",
      "19 es primo\n",
      "20 no es primo\n",
      "21 no es primo\n",
      "22 no es primo\n",
      "23 es primo\n",
      "24 no es primo\n",
      "25 no es primo\n",
      "26 no es primo\n",
      "27 no es primo\n",
      "28 no es primo\n",
      "29 es primo\n",
      "30 no es primo\n"
     ]
    }
   ],
   "source": [
    "for numero in range(1, 31):\n",
    "    esprimo = True\n",
    "    for i in range(2, numero):\n",
    "        if (numero % i == 0):\n",
    "            esprimo = False\n",
    "    if (esprimo):\n",
    "        print(numero, 'es primo')\n",
    "    else:\n",
    "        print(numero, 'no es primo')   "
   ]
  },
  {
   "attachments": {},
   "cell_type": "markdown",
   "metadata": {},
   "source": [
    "10) ¿Se puede mejorar el proceso del punto 9? Utilizar las sentencias break y/ó continue para tal fin"
   ]
  },
  {
   "cell_type": "code",
   "execution_count": 39,
   "metadata": {},
   "outputs": [
    {
     "name": "stdout",
     "output_type": "stream",
     "text": [
      "0 es primo\n",
      "Cantidad de ciclos:  0\n",
      "1 es primo\n",
      "Cantidad de ciclos:  0\n",
      "2 es primo\n",
      "Cantidad de ciclos:  0\n",
      "3 es primo\n",
      "Cantidad de ciclos:  1\n",
      "Cantidad de ciclos:  2\n",
      "5 es primo\n",
      "Cantidad de ciclos:  5\n",
      "Cantidad de ciclos:  6\n",
      "7 es primo\n",
      "Cantidad de ciclos:  11\n",
      "Cantidad de ciclos:  12\n",
      "Cantidad de ciclos:  14\n",
      "Cantidad de ciclos:  15\n",
      "11 es primo\n",
      "Cantidad de ciclos:  24\n",
      "Cantidad de ciclos:  25\n",
      "13 es primo\n",
      "Cantidad de ciclos:  36\n",
      "Cantidad de ciclos:  37\n",
      "Cantidad de ciclos:  39\n",
      "Cantidad de ciclos:  40\n",
      "17 es primo\n",
      "Cantidad de ciclos:  55\n",
      "Cantidad de ciclos:  56\n",
      "19 es primo\n",
      "Cantidad de ciclos:  73\n",
      "Cantidad de ciclos:  74\n",
      "Cantidad de ciclos:  76\n",
      "Cantidad de ciclos:  77\n",
      "23 es primo\n",
      "Cantidad de ciclos:  98\n",
      "Cantidad de ciclos:  99\n",
      "Cantidad de ciclos:  103\n",
      "Cantidad de ciclos:  104\n",
      "Cantidad de ciclos:  106\n",
      "Cantidad de ciclos:  107\n",
      "29 es primo\n",
      "Cantidad de ciclos:  134\n",
      "Cantidad de ciclos:  135\n"
     ]
    }
   ],
   "source": [
    "cantidad_ciclos = 0\n",
    "for numero in range(0, 31):\n",
    "    esprimo = True\n",
    "    for i in range(2, numero):\n",
    "        cantidad_ciclos += 1\n",
    "        if (numero % i == 0):\n",
    "            esprimo = False\n",
    "            break\n",
    "    if (esprimo):\n",
    "        print(numero, 'es primo')\n",
    "    print('Cantidad de ciclos: ',cantidad_ciclos)\n"
   ]
  },
  {
   "attachments": {},
   "cell_type": "markdown",
   "metadata": {},
   "source": [
    "11) En los puntos 9 y 10, se diseño un código que encuentra números primos y además se lo optimizó. ¿Es posible saber en qué medida se optimizó?"
   ]
  },
  {
   "cell_type": "code",
   "execution_count": null,
   "metadata": {},
   "outputs": [],
   "source": []
  },
  {
   "attachments": {},
   "cell_type": "markdown",
   "metadata": {},
   "source": [
    "12) Si la cantidad de números que se evalúa es mayor a treinta, esa optimización crece?"
   ]
  },
  {
   "cell_type": "code",
   "execution_count": null,
   "metadata": {},
   "outputs": [],
   "source": []
  },
  {
   "attachments": {},
   "cell_type": "markdown",
   "metadata": {},
   "source": [
    "13) Aplicando continue, armar un ciclo while que solo imprima los valores divisibles por 12, dentro del rango de números de 100 a 300"
   ]
  },
  {
   "cell_type": "code",
   "execution_count": null,
   "metadata": {},
   "outputs": [],
   "source": []
  },
  {
   "attachments": {},
   "cell_type": "markdown",
   "metadata": {},
   "source": [
    "14) Utilizar la función **input()** que permite hacer ingresos por teclado, para encontrar números primos y dar la opción al usario de buscar el siguiente"
   ]
  },
  {
   "cell_type": "code",
   "execution_count": null,
   "metadata": {},
   "outputs": [],
   "source": []
  },
  {
   "attachments": {},
   "cell_type": "markdown",
   "metadata": {},
   "source": [
    "15) Crear un ciclo while que encuentre dentro del rango de 100 a 300 el primer número divisible por 3 y además múltiplo de 6"
   ]
  },
  {
   "cell_type": "code",
   "execution_count": null,
   "metadata": {},
   "outputs": [],
   "source": []
  }
 ],
 "metadata": {
  "interpreter": {
   "hash": "c85384e4cb51c8b72350f3a8712cc8351fdc3955e32a27f9b60c6242ab125f01"
  },
  "kernelspec": {
   "display_name": "Python 3 (ipykernel)",
   "language": "python",
   "name": "python3"
  },
  "language_info": {
   "codemirror_mode": {
    "name": "ipython",
    "version": 3
   },
   "file_extension": ".py",
   "mimetype": "text/x-python",
   "name": "python",
   "nbconvert_exporter": "python",
   "pygments_lexer": "ipython3",
   "version": "3.10.11"
  }
 },
 "nbformat": 4,
 "nbformat_minor": 4
}
