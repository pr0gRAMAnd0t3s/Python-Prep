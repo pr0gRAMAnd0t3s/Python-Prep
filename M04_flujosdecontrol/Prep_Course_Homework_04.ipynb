{
 "cells": [
  {
   "attachments": {},
   "cell_type": "markdown",
   "metadata": {},
   "source": [
    "## Flujos de Control"
   ]
  },
  {
   "attachments": {},
   "cell_type": "markdown",
   "metadata": {},
   "source": [
    "1) Crear una variable que contenga un elemento del conjunto de números enteros y luego imprimir por pantalla si es mayor o menor a cero"
   ]
  },
  {
   "cell_type": "code",
   "execution_count": 1,
   "metadata": {},
   "outputs": [
    {
     "name": "stdout",
     "output_type": "stream",
     "text": [
      "Es menor a cero\n"
     ]
    }
   ],
   "source": [
    "z = -20\n",
    "if (z) > 0:\n",
    "    print('Es mayor a cero')\n",
    "elif (z) < 0:\n",
    "    print('Es menor a cero')\n",
    "else:\n",
    "    print('El numero es igual a cero')"
   ]
  },
  {
   "attachments": {},
   "cell_type": "markdown",
   "metadata": {},
   "source": [
    "2) Crear dos variables y un condicional que informe si son del mismo tipo de dato"
   ]
  },
  {
   "cell_type": "code",
   "execution_count": 1,
   "metadata": {},
   "outputs": [
    {
     "name": "stdout",
     "output_type": "stream",
     "text": [
      "No son el mismo tipo de datos\n"
     ]
    }
   ],
   "source": [
    "a = 12\n",
    "b = True\n",
    "if (type(a) == type(b)):\n",
    "    print('Son el mismo tipo de datos')\n",
    "else:\n",
    "    print('No son el mismo tipo de datos')"
   ]
  },
  {
   "attachments": {},
   "cell_type": "markdown",
   "metadata": {},
   "source": [
    "3) Para los valores enteros del 1 al 20, imprimir por pantalla si es par o impar"
   ]
  },
  {
   "cell_type": "code",
   "execution_count": 8,
   "metadata": {},
   "outputs": [
    {
     "name": "stdout",
     "output_type": "stream",
     "text": [
      "1 es un numero es impar\n",
      "2 es un numero es par\n",
      "3 es un numero es impar\n",
      "4 es un numero es par\n",
      "5 es un numero es impar\n",
      "6 es un numero es par\n",
      "7 es un numero es impar\n",
      "8 es un numero es par\n",
      "9 es un numero es impar\n",
      "10 es un numero es par\n",
      "11 es un numero es impar\n",
      "12 es un numero es par\n",
      "13 es un numero es impar\n",
      "14 es un numero es par\n",
      "15 es un numero es impar\n",
      "16 es un numero es par\n",
      "17 es un numero es impar\n",
      "18 es un numero es par\n",
      "19 es un numero es impar\n",
      "20 es un numero es par\n"
     ]
    }
   ],
   "source": [
    "for numero in range(1, 21):\n",
    "    if(numero % 2 == 0):\n",
    "        print(numero, 'es un numero es par')\n",
    "    else:\n",
    "        print(numero, 'es un numero es impar')"
   ]
  },
  {
   "attachments": {},
   "cell_type": "markdown",
   "metadata": {},
   "source": [
    "4) En un ciclo for mostrar para los valores entre 0 y 5 el resultado de elevarlo a la potencia igual a 3"
   ]
  },
  {
   "cell_type": "code",
   "execution_count": 1,
   "metadata": {},
   "outputs": [
    {
     "name": "stdout",
     "output_type": "stream",
     "text": [
      "0\n",
      "1\n",
      "8\n",
      "27\n",
      "64\n",
      "125\n"
     ]
    }
   ],
   "source": [
    "for c in range(0, 6):\n",
    "    print(c**3)"
   ]
  },
  {
   "cell_type": "code",
   "execution_count": 13,
   "metadata": {},
   "outputs": [
    {
     "name": "stdout",
     "output_type": "stream",
     "text": [
      "El valor de 0 elevado a la potencia, es: 0\n",
      "El valor de 1 elevado a la potencia, es: 1\n",
      "El valor de 2 elevado a la potencia, es: 8\n",
      "El valor de 3 elevado a la potencia, es: 27\n",
      "El valor de 4 elevado a la potencia, es: 64\n",
      "El valor de 5 elevado a la potencia, es: 125\n"
     ]
    }
   ],
   "source": [
    "for i in range(6):\n",
    "    potencia = i**3\n",
    "    print(f\"El valor de {i} elevado a la potencia, es: {potencia}\")"
   ]
  },
  {
   "attachments": {},
   "cell_type": "markdown",
   "metadata": {},
   "source": [
    "5) Crear una variable que contenga un número entero y realizar un ciclo for la misma cantidad de ciclos"
   ]
  },
  {
   "cell_type": "code",
   "execution_count": 13,
   "metadata": {},
   "outputs": [
    {
     "name": "stdout",
     "output_type": "stream",
     "text": [
      "9\n"
     ]
    }
   ],
   "source": [
    "e = 10\n",
    "for c in range(0, e):\n",
    "    pass\n",
    "print(c)"
   ]
  },
  {
   "cell_type": "code",
   "execution_count": 9,
   "metadata": {},
   "outputs": [
    {
     "name": "stdout",
     "output_type": "stream",
     "text": [
      "Estamos en el numero de cico 1\n",
      "Estamos en el numero de cico 2\n",
      "Estamos en el numero de cico 3\n",
      "Estamos en el numero de cico 4\n",
      "Estamos en el numero de cico 5\n"
     ]
    }
   ],
   "source": [
    "nro = 5\n",
    "for i in range(1, nro +1):\n",
    "    print(f\"Estamos en el numero de cico {i}\")"
   ]
  },
  {
   "attachments": {},
   "cell_type": "markdown",
   "metadata": {},
   "source": [
    "6) Utilizar un ciclo while para realizar el factorial de un número guardado en una variable, sólo si la variable contiene un número entero mayor a 0"
   ]
  },
  {
   "cell_type": "code",
   "execution_count": null,
   "metadata": {},
   "outputs": [],
   "source": [
    "nro = 5\n",
    "factorial 5 : 5! = 1*2*3*4*5"
   ]
  },
  {
   "cell_type": "code",
   "execution_count": 18,
   "metadata": {},
   "outputs": [
    {
     "ename": "KeyboardInterrupt",
     "evalue": "",
     "output_type": "error",
     "traceback": [
      "\u001b[1;31m---------------------------------------------------------------------------\u001b[0m",
      "\u001b[1;31mKeyboardInterrupt\u001b[0m                         Traceback (most recent call last)",
      "Cell \u001b[1;32mIn[18], line 5\u001b[0m\n\u001b[0;32m      3\u001b[0m \u001b[39mif\u001b[39;00m \u001b[39mtype\u001b[39m(numero) \u001b[39m==\u001b[39m \u001b[39mint\u001b[39m \u001b[39mand\u001b[39;00m numero\u001b[39m>\u001b[39m\u001b[39m0\u001b[39m:\n\u001b[0;32m      4\u001b[0m     \u001b[39mwhile\u001b[39;00m numero \u001b[39m>\u001b[39m\u001b[39m=\u001b[39m \u001b[39m1\u001b[39m:\n\u001b[1;32m----> 5\u001b[0m         factorial \u001b[39m=\u001b[39m numero \u001b[39m*\u001b[39;49m factorial\n\u001b[0;32m      6\u001b[0m         numero \u001b[39m-\u001b[39m \u001b[39m1\u001b[39m\n\u001b[0;32m      7\u001b[0m \u001b[39mprint\u001b[39m(factorial)\n",
      "\u001b[1;31mKeyboardInterrupt\u001b[0m: "
     ]
    }
   ],
   "source": [
    "numero = 5\n",
    "factorial = 1\n",
    "if type(numero) == int and numero>0:\n",
    "    while numero >= 1:\n",
    "        factorial = numero * factorial\n",
    "        numero - 1\n",
    "print(factorial)\n"
   ]
  },
  {
   "cell_type": "code",
   "execution_count": 14,
   "metadata": {},
   "outputs": [],
   "source": [
    "a = 2\n",
    "if (a > 0):\n",
    "    pass\n",
    "else:\n",
    "    print(' La variable debe ser mayor a cero')"
   ]
  },
  {
   "attachments": {},
   "cell_type": "markdown",
   "metadata": {},
   "source": [
    "7) Crear un ciclo for dentro de un ciclo while"
   ]
  },
  {
   "cell_type": "code",
   "execution_count": 23,
   "metadata": {},
   "outputs": [
    {
     "name": "stdout",
     "output_type": "stream",
     "text": [
      "Ciclo while2\n",
      "Ciclo for1\n",
      "Ciclo while3\n",
      "Ciclo for1\n",
      "Ciclo while3\n",
      "Ciclo for2\n",
      "Ciclo while4\n",
      "Ciclo for1\n",
      "Ciclo while4\n",
      "Ciclo for2\n",
      "Ciclo while4\n",
      "Ciclo for3\n",
      "Ciclo while5\n",
      "Ciclo for1\n",
      "Ciclo while5\n",
      "Ciclo for2\n",
      "Ciclo while5\n",
      "Ciclo for3\n",
      "Ciclo while5\n",
      "Ciclo for4\n"
     ]
    }
   ],
   "source": [
    "a = 0\n",
    "while(a < 5):\n",
    "    a += 1\n",
    "    for i in range(1,a):\n",
    "        print('Ciclo while' + str(a))\n",
    "        print('Ciclo for' + str(i))"
   ]
  },
  {
   "cell_type": "code",
   "execution_count": 19,
   "metadata": {},
   "outputs": [
    {
     "name": "stdout",
     "output_type": "stream",
     "text": [
      "Ciclo while nro 1\n",
      "Ciclo for nor 1\n",
      "Ciclo while nro 2\n",
      "Ciclo for nor 1\n",
      "Ciclo for nor 2\n",
      "Ciclo while nro 3\n",
      "Ciclo for nor 1\n",
      "Ciclo for nor 2\n",
      "Ciclo for nor 3\n",
      "Ciclo while nro 4\n",
      "Ciclo for nor 1\n",
      "Ciclo for nor 2\n",
      "Ciclo for nor 3\n",
      "Ciclo for nor 4\n"
     ]
    }
   ],
   "source": [
    "n = 1\n",
    "\n",
    "while n < 5:\n",
    "    print(f'Ciclo while nro {n}')\n",
    "    for i in range(1, n+1):\n",
    "        print(f'Ciclo for nor {i}')\n",
    "    n += 1"
   ]
  },
  {
   "attachments": {},
   "cell_type": "markdown",
   "metadata": {},
   "source": [
    "8) Crear un ciclo while dentro de un ciclo for"
   ]
  },
  {
   "cell_type": "code",
   "execution_count": 28,
   "metadata": {},
   "outputs": [],
   "source": [
    "b = 4\n",
    "for i in range(1,b):\n",
    "    while(b > 10):\n",
    "        b -= 1\n",
    "        print('Ciclo for' + str(b))\n",
    "        print('Ciclo while' + str(i))"
   ]
  },
  {
   "cell_type": "code",
   "execution_count": 20,
   "metadata": {},
   "outputs": [
    {
     "name": "stdout",
     "output_type": "stream",
     "text": [
      "Ciclo for: 0\n",
      "Ciclo while: for: 0\n",
      "Ciclo while: for: 1\n",
      "Ciclo while: for: 2\n",
      "Ciclo for: 1\n",
      "Ciclo while: for: 0\n",
      "Ciclo while: for: 1\n",
      "Ciclo while: for: 2\n"
     ]
    }
   ],
   "source": [
    "n = 2\n",
    "for i in range(n):\n",
    "    contador = 0\n",
    "    limite = 3\n",
    "    print(f'Ciclo for: {i}')\n",
    "    while contador < limite:\n",
    "        print(f'Ciclo while: for: {contador}')\n",
    "        contador += 1"
   ]
  },
  {
   "attachments": {},
   "cell_type": "markdown",
   "metadata": {},
   "source": [
    "9) Imprimir los números primos existentes entre 0 y 30"
   ]
  },
  {
   "cell_type": "code",
   "execution_count": 22,
   "metadata": {},
   "outputs": [
    {
     "name": "stdout",
     "output_type": "stream",
     "text": [
      "2 es primo\n",
      "3 es primo\n",
      "4 no es primo\n",
      "5 es primo\n",
      "6 no es primo\n",
      "7 es primo\n",
      "8 no es primo\n",
      "9 no es primo\n",
      "10 no es primo\n",
      "11 es primo\n",
      "12 no es primo\n",
      "13 es primo\n",
      "14 no es primo\n",
      "15 no es primo\n",
      "16 no es primo\n",
      "17 es primo\n",
      "18 no es primo\n",
      "19 es primo\n",
      "20 no es primo\n",
      "21 no es primo\n",
      "22 no es primo\n",
      "23 es primo\n",
      "24 no es primo\n",
      "25 no es primo\n",
      "26 no es primo\n",
      "27 no es primo\n",
      "28 no es primo\n",
      "29 es primo\n",
      "30 no es primo\n"
     ]
    }
   ],
   "source": [
    "for numero in range(2, 31):\n",
    "    esprimo = True\n",
    "    for i in range(2, numero):\n",
    "        if (numero % i == 0):\n",
    "            esprimo = False\n",
    "    if (esprimo):\n",
    "        print(numero, 'es primo')\n",
    "    else:\n",
    "        print(numero, 'no es primo')   "
   ]
  },
  {
   "cell_type": "code",
   "execution_count": 27,
   "metadata": {},
   "outputs": [
    {
     "name": "stdout",
     "output_type": "stream",
     "text": [
      "2\n",
      "3\n",
      "5\n",
      "7\n",
      "11\n",
      "13\n",
      "17\n",
      "19\n",
      "23\n",
      "29\n"
     ]
    }
   ],
   "source": [
    "tope = 30\n",
    "n = 2\n",
    "primo = True\n",
    "\n",
    "while n <= tope:\n",
    "    for div in range(2, n):\n",
    "        resto = n % div\n",
    "        if resto == 0:\n",
    "            primo = False\n",
    "    if primo:\n",
    "        print(n)\n",
    "    else:\n",
    "        primo = True\n",
    "    n += 1"
   ]
  },
  {
   "attachments": {},
   "cell_type": "markdown",
   "metadata": {},
   "source": [
    "10) ¿Se puede mejorar el proceso del punto 9? Utilizar las sentencias break y/ó continue para tal fin"
   ]
  },
  {
   "cell_type": "code",
   "execution_count": 39,
   "metadata": {},
   "outputs": [
    {
     "name": "stdout",
     "output_type": "stream",
     "text": [
      "0 es primo\n",
      "Cantidad de ciclos:  0\n",
      "1 es primo\n",
      "Cantidad de ciclos:  0\n",
      "2 es primo\n",
      "Cantidad de ciclos:  0\n",
      "3 es primo\n",
      "Cantidad de ciclos:  1\n",
      "Cantidad de ciclos:  2\n",
      "5 es primo\n",
      "Cantidad de ciclos:  5\n",
      "Cantidad de ciclos:  6\n",
      "7 es primo\n",
      "Cantidad de ciclos:  11\n",
      "Cantidad de ciclos:  12\n",
      "Cantidad de ciclos:  14\n",
      "Cantidad de ciclos:  15\n",
      "11 es primo\n",
      "Cantidad de ciclos:  24\n",
      "Cantidad de ciclos:  25\n",
      "13 es primo\n",
      "Cantidad de ciclos:  36\n",
      "Cantidad de ciclos:  37\n",
      "Cantidad de ciclos:  39\n",
      "Cantidad de ciclos:  40\n",
      "17 es primo\n",
      "Cantidad de ciclos:  55\n",
      "Cantidad de ciclos:  56\n",
      "19 es primo\n",
      "Cantidad de ciclos:  73\n",
      "Cantidad de ciclos:  74\n",
      "Cantidad de ciclos:  76\n",
      "Cantidad de ciclos:  77\n",
      "23 es primo\n",
      "Cantidad de ciclos:  98\n",
      "Cantidad de ciclos:  99\n",
      "Cantidad de ciclos:  103\n",
      "Cantidad de ciclos:  104\n",
      "Cantidad de ciclos:  106\n",
      "Cantidad de ciclos:  107\n",
      "29 es primo\n",
      "Cantidad de ciclos:  134\n",
      "Cantidad de ciclos:  135\n"
     ]
    }
   ],
   "source": [
    "cantidad_ciclos = 0\n",
    "for numero in range(0, 31):\n",
    "    esprimo = True\n",
    "    for i in range(2, numero):\n",
    "        cantidad_ciclos += 1\n",
    "        if (numero % i == 0):\n",
    "            esprimo = False\n",
    "            break\n",
    "    if (esprimo):\n",
    "        print(numero, 'es primo')\n",
    "    print('Cantidad de ciclos: ',cantidad_ciclos)\n"
   ]
  },
  {
   "cell_type": "code",
   "execution_count": 28,
   "metadata": {},
   "outputs": [
    {
     "name": "stdout",
     "output_type": "stream",
     "text": [
      "2\n",
      "3\n",
      "5\n",
      "7\n",
      "11\n",
      "13\n",
      "17\n",
      "19\n",
      "23\n",
      "29\n"
     ]
    }
   ],
   "source": [
    "tope = 30\n",
    "n = 2\n",
    "primo = True\n",
    "\n",
    "while n <= tope:\n",
    "    for div in range(2, n):\n",
    "        resto = n % div\n",
    "        if resto == 0:\n",
    "            primo = False\n",
    "            break\n",
    "    if primo:\n",
    "        print(n)\n",
    "    else:\n",
    "        primo = True\n",
    "    n += 1"
   ]
  },
  {
   "attachments": {},
   "cell_type": "markdown",
   "metadata": {},
   "source": [
    "11) En los puntos 9 y 10, se diseño un código que encuentra números primos y además se lo optimizó. ¿Es posible saber en qué medida se optimizó?"
   ]
  },
  {
   "cell_type": "code",
   "execution_count": 36,
   "metadata": {},
   "outputs": [
    {
     "name": "stdout",
     "output_type": "stream",
     "text": [
      "2\n",
      "3\n",
      "5\n",
      "7\n",
      "11\n",
      "13\n",
      "17\n",
      "19\n",
      "23\n",
      "29\n",
      "cantidad de ciclos sin break 0\n"
     ]
    }
   ],
   "source": [
    "tope = 30\n",
    "n = 2\n",
    "primo = True\n",
    "ciclos_sin_break = 0\n",
    "while n <= tope:\n",
    "    for div in range(2, n):\n",
    "        resto = n % div\n",
    "        if resto == 0:\n",
    "            primo = False\n",
    "    if primo:\n",
    "        print(n)\n",
    "    else:\n",
    "        primo = True\n",
    "    n += 1\n",
    "print(f\"cantidad de ciclos sin break {ciclos_sin_break}\")"
   ]
  },
  {
   "cell_type": "code",
   "execution_count": 37,
   "metadata": {},
   "outputs": [
    {
     "name": "stdout",
     "output_type": "stream",
     "text": [
      "2\n",
      "3\n",
      "5\n",
      "7\n",
      "11\n",
      "13\n",
      "17\n",
      "19\n",
      "23\n",
      "29\n",
      "cantidad de ciclos sin break 0\n"
     ]
    }
   ],
   "source": [
    "tope = 30\n",
    "n = 2\n",
    "primo = True\n",
    "ciclos_con_break = 0\n",
    "while n <= tope:\n",
    "    for div in range(2, n):\n",
    "        resto = n % div\n",
    "        if resto == 0:\n",
    "            primo = False\n",
    "            break\n",
    "    if primo:\n",
    "        print(n)\n",
    "    else:\n",
    "        primo = True\n",
    "    n += 1\n",
    "print(f\"cantidad de ciclos sin break {ciclos_con_break}\")"
   ]
  },
  {
   "attachments": {},
   "cell_type": "markdown",
   "metadata": {},
   "source": [
    "12) Si la cantidad de números que se evalúa es mayor a treinta, esa optimización crece?"
   ]
  },
  {
   "cell_type": "code",
   "execution_count": null,
   "metadata": {},
   "outputs": [],
   "source": []
  },
  {
   "attachments": {},
   "cell_type": "markdown",
   "metadata": {},
   "source": [
    "13) Aplicando continue, armar un ciclo while que solo imprima los valores divisibles por 12, dentro del rango de números de 100 a 300"
   ]
  },
  {
   "cell_type": "code",
   "execution_count": 39,
   "metadata": {},
   "outputs": [
    {
     "name": "stdout",
     "output_type": "stream",
     "text": [
      "108 es divisible por 12\n",
      "120 es divisible por 12\n",
      "132 es divisible por 12\n",
      "144 es divisible por 12\n",
      "156 es divisible por 12\n",
      "168 es divisible por 12\n",
      "180 es divisible por 12\n",
      "192 es divisible por 12\n",
      "204 es divisible por 12\n",
      "216 es divisible por 12\n",
      "228 es divisible por 12\n",
      "240 es divisible por 12\n",
      "252 es divisible por 12\n",
      "264 es divisible por 12\n",
      "276 es divisible por 12\n",
      "288 es divisible por 12\n",
      "300 es divisible por 12\n"
     ]
    }
   ],
   "source": [
    "n = 99\n",
    "while n <= 300:\n",
    "    n += 1\n",
    "    resto = n % 12\n",
    "    if resto != 0:\n",
    "        continue\n",
    "    print(f\"{n} es divisible por 12\")"
   ]
  },
  {
   "attachments": {},
   "cell_type": "markdown",
   "metadata": {},
   "source": [
    "14) Utilizar la función **input()** que permite hacer ingresos por teclado, para encontrar números primos y dar la opción al usario de buscar el siguiente"
   ]
  },
  {
   "cell_type": "code",
   "execution_count": 41,
   "metadata": {},
   "outputs": [
    {
     "name": "stdout",
     "output_type": "stream",
     "text": [
      "9\n",
      "<class 'str'>\n"
     ]
    }
   ],
   "source": [
    "a = input(input\"ingrese n numero mayor a 0:\")\n",
    "print(a)\n",
    "print(type(a))"
   ]
  },
  {
   "cell_type": "code",
   "execution_count": null,
   "metadata": {},
   "outputs": [],
   "source": [
    "n = 2\n",
    "primo = True\n",
    "buscar_primo = True\n",
    "\n",
    "while n <= tope:\n",
    "    for div in range(2, n):\n",
    "        resto = n % div\n",
    "        if resto == 0:\n",
    "            primo = False\n",
    "            break\n",
    "    if primo:\n",
    "        print(f'El numero {n} es primo')\n",
    "        print(\"Desea encontrar el siguienre numero primo?\")\n",
    "    else:\n",
    "        primo = True\n",
    "    n += 1\n",
    "print(f\"cantidad de ciclos sin break {ciclos_sin_break}\")"
   ]
  },
  {
   "attachments": {},
   "cell_type": "markdown",
   "metadata": {},
   "source": [
    "15) Crear un ciclo while que encuentre dentro del rango de 100 a 300 el primer número divisible por 3 y además múltiplo de 6"
   ]
  },
  {
   "cell_type": "code",
   "execution_count": 42,
   "metadata": {},
   "outputs": [
    {
     "name": "stdout",
     "output_type": "stream",
     "text": [
      "El numero es: 102\n"
     ]
    }
   ],
   "source": [
    "n = 100\n",
    "while(n<=300):\n",
    "    resto =n % 6\n",
    "    if resto == 0:\n",
    "        print(f'El numero es: {n}')\n",
    "        break\n",
    "    n += 1"
   ]
  }
 ],
 "metadata": {
  "interpreter": {
   "hash": "c85384e4cb51c8b72350f3a8712cc8351fdc3955e32a27f9b60c6242ab125f01"
  },
  "kernelspec": {
   "display_name": "Python 3 (ipykernel)",
   "language": "python",
   "name": "python3"
  },
  "language_info": {
   "codemirror_mode": {
    "name": "ipython",
    "version": 3
   },
   "file_extension": ".py",
   "mimetype": "text/x-python",
   "name": "python",
   "nbconvert_exporter": "python",
   "pygments_lexer": "ipython3",
   "version": "3.10.11"
  }
 },
 "nbformat": 4,
 "nbformat_minor": 4
}
