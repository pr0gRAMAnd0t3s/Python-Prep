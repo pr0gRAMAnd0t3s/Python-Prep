{
 "cells": [
  {
   "attachments": {},
   "cell_type": "markdown",
   "metadata": {},
   "source": [
    "## Clases y Programación Orientada a Objetos"
   ]
  },
  {
   "attachments": {},
   "cell_type": "markdown",
   "metadata": {},
   "source": [
    "1) Crear la clase vehículo que contenga los atributos:<br>\n",
    "Color<br>\n",
    "Si es moto, auto, camioneta ó camión<br>\n",
    "Cilindrada del motor"
   ]
  },
  {
   "cell_type": "code",
   "execution_count": 23,
   "metadata": {},
   "outputs": [],
   "source": [
    "class Vehiculo:\n",
    "    def __init__(self, color, tipo, cilindrada):\n",
    "        self.color = color\n",
    "        self.tipo = tipo\n",
    "        self.cilindrada = cilindrada        "
   ]
  },
  {
   "cell_type": "code",
   "execution_count": 24,
   "metadata": {},
   "outputs": [],
   "source": [
    "mi_vehiculo = Vehiculo(color='Blanco', tipo='Utilitario', cilindrada=4)"
   ]
  },
  {
   "cell_type": "code",
   "execution_count": 25,
   "metadata": {},
   "outputs": [
    {
     "data": {
      "text/plain": [
       "<__main__.Vehiculo at 0x27e672d1120>"
      ]
     },
     "execution_count": 25,
     "metadata": {},
     "output_type": "execute_result"
    }
   ],
   "source": [
    "mi_vehiculo"
   ]
  },
  {
   "cell_type": "code",
   "execution_count": 26,
   "metadata": {},
   "outputs": [
    {
     "data": {
      "text/plain": [
       "4"
      ]
     },
     "execution_count": 26,
     "metadata": {},
     "output_type": "execute_result"
    }
   ],
   "source": [
    "mi_vehiculo.cilindrada"
   ]
  },
  {
   "cell_type": "code",
   "execution_count": 27,
   "metadata": {},
   "outputs": [
    {
     "data": {
      "text/plain": [
       "'Blanco'"
      ]
     },
     "execution_count": 27,
     "metadata": {},
     "output_type": "execute_result"
    }
   ],
   "source": [
    "mi_vehiculo.color"
   ]
  },
  {
   "cell_type": "code",
   "execution_count": 28,
   "metadata": {},
   "outputs": [
    {
     "data": {
      "text/plain": [
       "'Utilitario'"
      ]
     },
     "execution_count": 28,
     "metadata": {},
     "output_type": "execute_result"
    }
   ],
   "source": [
    "mi_vehiculo.tipo"
   ]
  },
  {
   "attachments": {},
   "cell_type": "markdown",
   "metadata": {},
   "source": [
    "2) A la clase Vehiculo creada en el punto 1, agregar los siguientes métodos:<br>\n",
    "Acelerar<br>\n",
    "Frenar<br>\n",
    "Doblar<br>"
   ]
  },
  {
   "cell_type": "code",
   "execution_count": 29,
   "metadata": {},
   "outputs": [],
   "source": [
    "class Vehiculo:\n",
    "    def __init__(self, color, tipo, cilindrada):\n",
    "        self.color = color\n",
    "        self.tipo = tipo\n",
    "        self.cilindrada = cilindrada\n",
    "        self.velocidad = 0\n",
    "        self.direccion = 0\n",
    "    \n",
    "    def Acelerar(self, vel):\n",
    "        self.velocidad += vel\n",
    "\n",
    "    def Frenar(self, vel):\n",
    "        self.velocidad -= vel\n",
    "\n",
    "    def Doblar(self,grados):\n",
    "        self.direccion += grados"
   ]
  },
  {
   "attachments": {},
   "cell_type": "markdown",
   "metadata": {},
   "source": [
    "3) Instanciar 3 objetos de la clase vehículo y ejecutar sus métodos, probar luego el resultado"
   ]
  },
  {
   "cell_type": "code",
   "execution_count": 30,
   "metadata": {},
   "outputs": [],
   "source": [
    "mi_vehiculo1 = Vehiculo('rojo', 'moto', \"1103\")\n",
    "mi_vehiculo2 = Vehiculo('verde', 'camioneta', '2997')\n",
    "mi_vehiculo3 = Vehiculo('negro', 'auto', '1998')"
   ]
  },
  {
   "cell_type": "code",
   "execution_count": 31,
   "metadata": {},
   "outputs": [
    {
     "data": {
      "text/plain": [
       "0"
      ]
     },
     "execution_count": 31,
     "metadata": {},
     "output_type": "execute_result"
    }
   ],
   "source": [
    "mi_vehiculo1.velocidad"
   ]
  },
  {
   "cell_type": "code",
   "execution_count": 32,
   "metadata": {},
   "outputs": [
    {
     "data": {
      "text/plain": [
       "130"
      ]
     },
     "execution_count": 32,
     "metadata": {},
     "output_type": "execute_result"
    }
   ],
   "source": [
    "mi_vehiculo1.Acelerar(100)\n",
    "mi_vehiculo1.Frenar(20)\n",
    "mi_vehiculo1.Acelerar(50)\n",
    "mi_vehiculo1.velocidad"
   ]
  },
  {
   "cell_type": "code",
   "execution_count": 33,
   "metadata": {},
   "outputs": [
    {
     "data": {
      "text/plain": [
       "45"
      ]
     },
     "execution_count": 33,
     "metadata": {},
     "output_type": "execute_result"
    }
   ],
   "source": [
    "mi_vehiculo1.Doblar(45)\n",
    "mi_vehiculo1.direccion"
   ]
  },
  {
   "attachments": {},
   "cell_type": "markdown",
   "metadata": {},
   "source": [
    "4) Agregar a la clase Vehiculo, un método que muestre su estado, es decir, a que velocidad se encuentra y su dirección. Y otro método que muestre color, tipo y cilindrada"
   ]
  },
  {
   "cell_type": "code",
   "execution_count": 34,
   "metadata": {},
   "outputs": [],
   "source": [
    "class Vehiculo:\n",
    "    def __init__(self, color, tipo, cilindrada):\n",
    "        self.color = color\n",
    "        self.tipo = tipo\n",
    "        self.cilindrada = cilindrada\n",
    "        self.velocidad_actual = 100\n",
    "        self.direccion_actual = 0\n",
    "    \n",
    "    def Acelerar(self, vel):\n",
    "        self.velocidad_actual += vel\n",
    "\n",
    "    def Frenar(self, vel):\n",
    "        self.velocidad_actual -= vel\n",
    "\n",
    "    def Doblar(self, grados):\n",
    "        self.direccion_actual += grados\n",
    "\n",
    "    def Estado(self):\n",
    "        print(f\"Velocidad actual: {self.velocidad_actual} - Direccion: {self.direccion_actual}\")\n",
    "\n",
    "    def Detalle(self):\n",
    "        print(f\"Soy un {self.tipo} de color {self.color} de {self.cilindrada} cilindrada\")"
   ]
  },
  {
   "cell_type": "code",
   "execution_count": 35,
   "metadata": {},
   "outputs": [
    {
     "name": "stdout",
     "output_type": "stream",
     "text": [
      "Velocidad actual: 240 - Direccion: 0\n"
     ]
    }
   ],
   "source": [
    "mi_vehiculo1 = Vehiculo(color='rojo', tipo='moto', cilindrada='1103')\n",
    "mi_vehiculo1.Acelerar(50) \n",
    "mi_vehiculo1.Frenar(10)\n",
    "mi_vehiculo1.Acelerar(100)\n",
    "mi_vehiculo1.Estado()"
   ]
  },
  {
   "cell_type": "code",
   "execution_count": 36,
   "metadata": {},
   "outputs": [
    {
     "name": "stdout",
     "output_type": "stream",
     "text": [
      "Soy un moto de color rojo de 1103 cilindrada\n"
     ]
    }
   ],
   "source": [
    "mi_vehiculo1.Detalle()"
   ]
  },
  {
   "cell_type": "code",
   "execution_count": 37,
   "metadata": {},
   "outputs": [
    {
     "name": "stdout",
     "output_type": "stream",
     "text": [
      "Velocidad actual: 240 - Direccion: 45\n"
     ]
    }
   ],
   "source": [
    "mi_vehiculo1.Doblar(45)\n",
    "mi_vehiculo1.Estado()"
   ]
  },
  {
   "attachments": {},
   "cell_type": "markdown",
   "metadata": {},
   "source": [
    "5) Crear una clase que permita utilizar las funciones creadas en la práctica del módulo 7<br>\n",
    "Verificar Primo<br>\n",
    "Valor modal<br>\n",
    "Conversión grados<br>\n",
    "Factorial<br>"
   ]
  },
  {
   "cell_type": "code",
   "execution_count": 38,
   "metadata": {},
   "outputs": [],
   "source": [
    "class Herramientas:\n",
    "    def __init__(self):\n",
    "        pass\n",
    "\n",
    "    def verifica_primo(self, numero):\n",
    "        es_primo = True\n",
    "        if numero <=1:\n",
    "            return None\n",
    "        if numero == 2:\n",
    "            return True\n",
    "        for i in range(2, numero):\n",
    "            if numero%i == 0:\n",
    "                es_primo = False\n",
    "            break\n",
    "        return es_primo\n",
    "\n",
    "    def valor_modal(self, lista, modo = 'menor'):\n",
    "        contador = {}\n",
    "        for num in lista:\n",
    "            if num in contador.keys():\n",
    "                contador[num] += 1\n",
    "            else:\n",
    "                contador[num] = 1\n",
    "\n",
    "        max_repeticion = 0\n",
    "        mas_repetido = []\n",
    "        \n",
    "        for numero, repeticion in contador.items():\n",
    "            if repeticion > max_repeticion:\n",
    "                max_repeticion = repeticion\n",
    "                mas_repetido = [numero]\n",
    "            elif repeticion == max_repeticion:\n",
    "                mas_repetido.append(numero)\n",
    "\n",
    "        if modo == 'menor':\n",
    "            mas_repetido_num = min(mas_repetido)\n",
    "        elif modo == 'mayor':\n",
    "            mas_repetido_num = max(mas_repetido)\n",
    "        \n",
    "        return mas_repetido_num, max_repeticion\n",
    "    \n",
    "    def conversion_grados(self, valor, origen, destino):\n",
    "        if origen == 'celsius':\n",
    "            if destino == 'celsius':\n",
    "                valor_destino = valor\n",
    "            elif destino == 'farenheit':\n",
    "                valor_destino = (valor * 9 / 5) + 32\n",
    "            elif destino == 'kelvin':\n",
    "                valor_destino = valor + 273.15\n",
    "            else:\n",
    "                print('Parametro de Destino incorrecto')\n",
    "        elif origen == 'farenheit':\n",
    "            if destino == 'celsius':\n",
    "                valor_destino = (valor - 32) * 5 / 9\n",
    "            elif destino == 'farenheit':\n",
    "                valor_destino = valor\n",
    "            elif destino == 'kelvin':\n",
    "                valor_destino = ((valor - 32) * 5 / 9) + 273.15\n",
    "            else:\n",
    "                print('Parametro de Destino incorrecto')\n",
    "        elif origen == 'kelvin':\n",
    "            if destino == 'celsius':\n",
    "                valor_destino = valor - 273.15\n",
    "            elif destino == 'farenheit':\n",
    "                valor_destino = ((valor - 273.15) * 9 / 5) + 32\n",
    "            elif destino == 'kelvin':\n",
    "                valor_destino = valor\n",
    "            else:\n",
    "                print('Parametro de destino incorrecto')\n",
    "        else:\n",
    "            print('Parametro de Origen incorrecto')\n",
    "        \n",
    "        return valor_destino\n",
    "        \n",
    "    def factorial(self, numero):\n",
    "        if type(numero) != int or numero <0:\n",
    "            return None\n",
    "        if numero <=1:\n",
    "            return 1        \n",
    "        numero = numero * self.factorial(numero - 1)\n",
    "        return numero\n",
    "\n"
   ]
  },
  {
   "cell_type": "code",
   "execution_count": 39,
   "metadata": {},
   "outputs": [],
   "source": [
    "h = Herramientas()"
   ]
  },
  {
   "cell_type": "code",
   "execution_count": 40,
   "metadata": {},
   "outputs": [
    {
     "data": {
      "text/plain": [
       "True"
      ]
     },
     "execution_count": 40,
     "metadata": {},
     "output_type": "execute_result"
    }
   ],
   "source": [
    "h.verifica_primo(5)"
   ]
  },
  {
   "cell_type": "code",
   "execution_count": 41,
   "metadata": {},
   "outputs": [
    {
     "data": {
      "text/plain": [
       "120"
      ]
     },
     "execution_count": 41,
     "metadata": {},
     "output_type": "execute_result"
    }
   ],
   "source": [
    "h.factorial(5)"
   ]
  },
  {
   "cell_type": "code",
   "execution_count": 42,
   "metadata": {},
   "outputs": [
    {
     "data": {
      "text/plain": [
       "(7, 2)"
      ]
     },
     "execution_count": 42,
     "metadata": {},
     "output_type": "execute_result"
    }
   ],
   "source": [
    "listado = [1,8,2,5,4,7,10,7,2,3]\n",
    "h.valor_modal(listado, 'mayor')\n"
   ]
  },
  {
   "attachments": {},
   "cell_type": "markdown",
   "metadata": {},
   "source": [
    "6) Probar las funciones incorporadas en la clase del punto 5"
   ]
  },
  {
   "cell_type": "code",
   "execution_count": 43,
   "metadata": {},
   "outputs": [
    {
     "data": {
      "text/plain": [
       "(2, 2)"
      ]
     },
     "execution_count": 43,
     "metadata": {},
     "output_type": "execute_result"
    }
   ],
   "source": [
    "listado = [1,8,2,5,4,7,10,7,2,3]\n",
    "h.valor_modal(listado)"
   ]
  },
  {
   "attachments": {},
   "cell_type": "markdown",
   "metadata": {},
   "source": [
    "7) Es necesario que la clase creada en el punto 5 contenga una lista, sobre la cual se apliquen las funciones incorporadas"
   ]
  },
  {
   "cell_type": "code",
   "execution_count": 51,
   "metadata": {},
   "outputs": [],
   "source": [
    "class Herramientas:\n",
    "    def __init__(self, lista_numeros):\n",
    "        self.lista = lista_numeros\n",
    "\n",
    "    def verifica_primo(self):\n",
    "        for i in self.lista:\n",
    "            if (self.__verifica_primo(i)):\n",
    "                print('El elemento', i, 'SI es un numero primo')\n",
    "            else:\n",
    "                print('El elemento', i, 'NO es un numero primo')\n",
    "\n",
    "    def conversion_grados(self, origen, destino):\n",
    "        for i in self.lista:\n",
    "            print(i, 'grados', origen, 'son', self.__conversion_grados(i, origen, destino),'grados',destino)\n",
    "    \n",
    "    def factorial(self):\n",
    "        for i in self.lista:\n",
    "            print('El factorial de ', i, 'es', self.__factorial(i))\n",
    "\n",
    "    def __verifica_primo(self, numero):\n",
    "        es_primo = True\n",
    "\n",
    "        if numero <= 1:\n",
    "            return None\n",
    "        if numero == 2:\n",
    "            return True\n",
    "        \n",
    "        for i in range(2, numero):\n",
    "            if numero % i == 0:\n",
    "                es_primo = False\n",
    "                break\n",
    "\n",
    "        return es_primo\n",
    "\n",
    "    def valor_modal(self, modo ='menor'):\n",
    "        contador = {}\n",
    "        for num in self.lista:\n",
    "            if num in contador.keys():\n",
    "                contador[num] += 1\n",
    "            else:\n",
    "                contador[num] = 1\n",
    "\n",
    "        maximo_repeticion = 0\n",
    "        mas_repetido = []\n",
    "        \n",
    "        for numero, repeticion in contador.items():\n",
    "            if repeticion > maximo_repeticion:\n",
    "                maximo_repeticion = repeticion\n",
    "                mas_repetido = [numero]\n",
    "            elif repeticion == maximo_repeticion:\n",
    "                mas_repetido.append(numero)\n",
    "\n",
    "        if modo == 'menor':\n",
    "            mas_repetido_num = min(mas_repetido)\n",
    "        elif modo == 'mayor':\n",
    "            mas_repetido_num = max(mas_repetido)\n",
    "\n",
    "        return mas_repetido_num , maximo_repeticion    \n",
    "\n",
    "    def __conversion_grados(self, valor, origen, destino):\n",
    "        if origen == 'celsius':\n",
    "            if destino == 'celsius':\n",
    "                valor_destino = valor\n",
    "            elif destino == 'farenheit':\n",
    "                valor_destino = (valor * 9 / 5) + 32\n",
    "            elif destino == 'kelvin':\n",
    "                valor_destino = valor + 273.15\n",
    "            else:\n",
    "                print('Parámetro de Destino incorrecto')\n",
    "        elif origen == 'farenheit':\n",
    "            if destino == 'celsius':\n",
    "                valor_destino = (valor - 32) * 5 / 9\n",
    "            elif destino == 'farenheit':\n",
    "                valor_destino = valor\n",
    "            elif destino == 'kelvin':\n",
    "                valor_destino = ((valor - 32) * 5 / 9) + 273.15\n",
    "            else:\n",
    "                print('Parámetro de Destino incorrecto')\n",
    "        elif origen == 'kelvin':\n",
    "            if destino == 'celsius':\n",
    "                valor_destino = valor - 273.15\n",
    "            elif destino == 'farenheit':\n",
    "                valor_destino = ((valor - 273.15) * 9 / 5) + 32\n",
    "            elif destino == 'kelvin':\n",
    "                valor_destino = valor\n",
    "            else:\n",
    "                print('Parámetro de Destino incorrecto')\n",
    "        else:\n",
    "            print('Parámetro de Origen incorrecto')\n",
    "\n",
    "        return valor_destino\n",
    "\n",
    "    def __factorial(self, numero):\n",
    "        if type(numero) != int or numero <0:\n",
    "            return None\n",
    "        if numero <= 1:\n",
    "            return 1\n",
    "        numero = numero * self.__factorial(numero - 1)\n",
    "        return numero"
   ]
  },
  {
   "cell_type": "code",
   "execution_count": 52,
   "metadata": {},
   "outputs": [
    {
     "name": "stdout",
     "output_type": "stream",
     "text": [
      "El valor modal es 8 y se repite 2 veces\n"
     ]
    }
   ],
   "source": [
    "listado = [1,8,2,5,4,8,10,7]\n",
    "j = Herramientas(listado)\n",
    "moda, repeticion = j.valor_modal('menor')\n",
    "print(f'El valor modal es {moda} y se repite {repeticion} veces')"
   ]
  },
  {
   "cell_type": "code",
   "execution_count": 53,
   "metadata": {},
   "outputs": [
    {
     "name": "stdout",
     "output_type": "stream",
     "text": [
      "1 grados celsius son 33.8 grados farenheit\n",
      "8 grados celsius son 46.4 grados farenheit\n",
      "2 grados celsius son 35.6 grados farenheit\n",
      "5 grados celsius son 41.0 grados farenheit\n",
      "4 grados celsius son 39.2 grados farenheit\n",
      "8 grados celsius son 46.4 grados farenheit\n",
      "10 grados celsius son 50.0 grados farenheit\n",
      "7 grados celsius son 44.6 grados farenheit\n"
     ]
    }
   ],
   "source": [
    "j.conversion_grados('celsius', 'farenheit')"
   ]
  },
  {
   "cell_type": "code",
   "execution_count": 54,
   "metadata": {},
   "outputs": [
    {
     "name": "stdout",
     "output_type": "stream",
     "text": [
      "El factorial de  1 es 1\n",
      "El factorial de  8 es 40320\n",
      "El factorial de  2 es 2\n",
      "El factorial de  5 es 120\n",
      "El factorial de  4 es 24\n",
      "El factorial de  8 es 40320\n",
      "El factorial de  10 es 3628800\n",
      "El factorial de  7 es 5040\n"
     ]
    }
   ],
   "source": [
    "j.factorial()"
   ]
  },
  {
   "cell_type": "code",
   "execution_count": 55,
   "metadata": {},
   "outputs": [
    {
     "name": "stdout",
     "output_type": "stream",
     "text": [
      "El elemento 1 NO es un numero primo\n",
      "El elemento 8 NO es un numero primo\n",
      "El elemento 2 SI es un numero primo\n",
      "El elemento 5 SI es un numero primo\n",
      "El elemento 4 NO es un numero primo\n",
      "El elemento 8 NO es un numero primo\n",
      "El elemento 10 NO es un numero primo\n",
      "El elemento 7 SI es un numero primo\n"
     ]
    }
   ],
   "source": [
    "j.verifica_primo()"
   ]
  },
  {
   "attachments": {},
   "cell_type": "markdown",
   "metadata": {},
   "source": [
    "8) Crear un archivo .py aparte y ubicar allí la clase generada en el punto anterior. Luego realizar la importación del módulo y probar alguna de sus funciones"
   ]
  },
  {
   "cell_type": "code",
   "execution_count": null,
   "metadata": {},
   "outputs": [],
   "source": [
    "from herramientas import =\n"
   ]
  },
  {
   "cell_type": "code",
   "execution_count": null,
   "metadata": {},
   "outputs": [],
   "source": [
    "h2 = Herramientas([1,1,3,5,,8,8])"
   ]
  },
  {
   "cell_type": "code",
   "execution_count": null,
   "metadata": {},
   "outputs": [],
   "source": [
    "h2.verifica_primo()"
   ]
  }
 ],
 "metadata": {
  "interpreter": {
   "hash": "c85384e4cb51c8b72350f3a8712cc8351fdc3955e32a27f9b60c6242ab125f01"
  },
  "kernelspec": {
   "display_name": "Python 3 (ipykernel)",
   "language": "python",
   "name": "python3"
  },
  "language_info": {
   "codemirror_mode": {
    "name": "ipython",
    "version": 3
   },
   "file_extension": ".py",
   "mimetype": "text/x-python",
   "name": "python",
   "nbconvert_exporter": "python",
   "pygments_lexer": "ipython3",
   "version": "3.10.11"
  }
 },
 "nbformat": 4,
 "nbformat_minor": 4
}
